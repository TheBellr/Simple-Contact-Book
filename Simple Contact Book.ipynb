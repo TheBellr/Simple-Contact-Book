{
 "cells": [
  {
   "cell_type": "markdown",
   "id": "637c8ef8-08b3-4012-bb27-c13d2746bb29",
   "metadata": {},
   "source": [
    "# Simple Contact Book\n",
    "\n",
    "Develop a basic contact book where users can add, view, and search for contacts. Use a dictionary to store contacts with names as keys and contact details (e.g., phone number, email) as values. Implement control flow to allow users to choose different operations."
   ]
  },
  {
   "cell_type": "code",
   "execution_count": null,
   "id": "e6448322-10a4-4e91-9666-c10db319fa45",
   "metadata": {},
   "outputs": [],
   "source": [
    "contact_book = {}\n",
    "contact_book[name] = {'phone_number': phone_number, 'email': email}\n",
    "\n",
    "print( '''\n",
    "1. Add Contact\n",
    "2. View Contacts\n",
    "3. Search Contact\n",
    "''')\n",
    "choice = input(\"Kindly enter a number from the options above: \")\n",
    "        \n",
    "if choice == '1':\n",
    "    name = input(\"Enter the name of the contact: \").upper()\n",
    "    phone_number = input(\"Enter the phone number: \")\n",
    "    email = input(\"Enter the email address: \").lower()\n",
    "\n",
    "    contact_book[name] = {'phone_number': phone_number, 'email': email}\n",
    "    print(str(name) + \" has added to the contact book.\")\n",
    "    \n",
    "elif choice == '2':\n",
    "    print(\"Contacts:\")\n",
    "    for name, details in contact_book.items():\n",
    "        print(\"Name: \" + str(name))\n",
    "        print(\"Phone Number: \" + str(details['phone_number']))\n",
    "        print(\"Email: \" + str(details['email']))\n",
    "    \n",
    "elif choice == '3':\n",
    "    search = input(\"Enter the name to search: \").upper()\n",
    "    if search in contact_book:\n",
    "        details = contact_book[search]\n",
    "        print(\"Contact Details:\")\n",
    "        print(\"Name: \" + str(search))\n",
    "        print(\"Phone Number: \" + str(details['phone_number']))\n",
    "        print(\"Email: \" + str(details['email']))\n",
    "    else:\n",
    "        print(\"Contact not found for \" + str(search))\n",
    "        \n",
    "else:\n",
    "            print(\"Invalid choice. Please enter a valid option.\")"
   ]
  }
 ],
 "metadata": {
  "kernelspec": {
   "display_name": "Python 3 (ipykernel)",
   "language": "python",
   "name": "python3"
  },
  "language_info": {
   "codemirror_mode": {
    "name": "ipython",
    "version": 3
   },
   "file_extension": ".py",
   "mimetype": "text/x-python",
   "name": "python",
   "nbconvert_exporter": "python",
   "pygments_lexer": "ipython3",
   "version": "3.11.5"
  }
 },
 "nbformat": 4,
 "nbformat_minor": 5
}
